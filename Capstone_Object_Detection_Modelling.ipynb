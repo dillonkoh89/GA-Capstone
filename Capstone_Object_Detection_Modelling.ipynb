{
  "nbformat": 4,
  "nbformat_minor": 0,
  "metadata": {
    "colab": {
      "name": "Capstone - Object Detection Modelling.ipynb",
      "provenance": [],
      "collapsed_sections": [],
      "authorship_tag": "ABX9TyNF4TisqliKpGuVOtX9xlBO",
      "include_colab_link": true
    },
    "kernelspec": {
      "name": "python3",
      "display_name": "Python 3"
    },
    "language_info": {
      "name": "python"
    },
    "accelerator": "GPU"
  },
  "cells": [
    {
      "cell_type": "markdown",
      "metadata": {
        "id": "view-in-github",
        "colab_type": "text"
      },
      "source": [
        "<a href=\"https://colab.research.google.com/github/dillonkoh89/GA-Capstone/blob/main/Capstone_Object_Detection_Modelling.ipynb\" target=\"_parent\"><img src=\"https://colab.research.google.com/assets/colab-badge.svg\" alt=\"Open In Colab\"/></a>"
      ]
    },
    {
      "cell_type": "code",
      "metadata": {
        "colab": {
          "base_uri": "https://localhost:8080/"
        },
        "id": "dVCBg1NYSLSn",
        "outputId": "7fae3f4f-68b8-4442-91ca-260a02037ecf"
      },
      "source": [
        "!pip install -q tensorflow==2.4.3\n",
        "!pip install -q tflite-model-maker\n",
        "!pip install -q pycocotools"
      ],
      "execution_count": null,
      "outputs": [
        {
          "output_type": "stream",
          "name": "stdout",
          "text": [
            "\u001b[K     |████████████████████████████████| 394.5 MB 386 bytes/s \n",
            "\u001b[K     |████████████████████████████████| 3.8 MB 43.5 MB/s \n",
            "\u001b[K     |████████████████████████████████| 462 kB 34.1 MB/s \n",
            "\u001b[K     |████████████████████████████████| 2.9 MB 37.4 MB/s \n",
            "\u001b[?25h  Building wheel for wrapt (setup.py) ... \u001b[?25l\u001b[?25hdone\n",
            "\u001b[K     |████████████████████████████████| 591 kB 5.4 MB/s \n",
            "\u001b[K     |████████████████████████████████| 840 kB 28.9 MB/s \n",
            "\u001b[K     |████████████████████████████████| 213 kB 46.1 MB/s \n",
            "\u001b[K     |████████████████████████████████| 120 kB 43.3 MB/s \n",
            "\u001b[K     |████████████████████████████████| 6.3 MB 34.3 MB/s \n",
            "\u001b[K     |████████████████████████████████| 87 kB 6.2 MB/s \n",
            "\u001b[K     |████████████████████████████████| 596 kB 42.9 MB/s \n",
            "\u001b[K     |████████████████████████████████| 103 kB 47.0 MB/s \n",
            "\u001b[K     |████████████████████████████████| 1.1 MB 31.5 MB/s \n",
            "\u001b[K     |████████████████████████████████| 1.1 MB 44.9 MB/s \n",
            "\u001b[K     |████████████████████████████████| 64 kB 2.4 MB/s \n",
            "\u001b[K     |████████████████████████████████| 1.2 MB 30.3 MB/s \n",
            "\u001b[K     |████████████████████████████████| 99 kB 8.8 MB/s \n",
            "\u001b[K     |████████████████████████████████| 47.6 MB 82 kB/s \n",
            "\u001b[K     |████████████████████████████████| 352 kB 33.5 MB/s \n",
            "\u001b[K     |████████████████████████████████| 208 kB 39.8 MB/s \n",
            "\u001b[?25h  Building wheel for fire (setup.py) ... \u001b[?25l\u001b[?25hdone\n",
            "  Building wheel for py-cpuinfo (setup.py) ... \u001b[?25l\u001b[?25hdone\n"
          ]
        }
      ]
    },
    {
      "cell_type": "code",
      "metadata": {
        "colab": {
          "base_uri": "https://localhost:8080/"
        },
        "id": "iHWxt7o8SiAH",
        "outputId": "940c6042-c513-4800-82e1-a6b0d1eef2d2"
      },
      "source": [
        "import numpy as np\n",
        "import os\n",
        "\n",
        "from tflite_model_maker.config import ExportFormat\n",
        "from tflite_model_maker import model_spec\n",
        "from tflite_model_maker import object_detector\n",
        "\n",
        "import tensorflow as tf\n",
        "assert tf.__version__.startswith('2')\n",
        "\n",
        "tf.get_logger().setLevel('ERROR')\n",
        "from absl import logging\n",
        "logging.set_verbosity(logging.ERROR)"
      ],
      "execution_count": null,
      "outputs": [
        {
          "output_type": "stream",
          "name": "stderr",
          "text": [
            "/usr/local/lib/python3.7/dist-packages/tensorflow_addons/utils/ensure_tf_install.py:67: UserWarning: Tensorflow Addons supports using Python ops for all Tensorflow versions above or equal to 2.5.0 and strictly below 2.8.0 (nightly versions are not supported). \n",
            " The versions of TensorFlow you are currently using is 2.4.3 and is not supported. \n",
            "Some things might work, some things might not.\n",
            "If you were to encounter a bug, do not file an issue.\n",
            "If you want to make sure you're using a tested and supported configuration, either change the TensorFlow version or the TensorFlow Addons's version. \n",
            "You can find the compatibility matrix in TensorFlow Addon's readme:\n",
            "https://github.com/tensorflow/addons\n",
            "  UserWarning,\n"
          ]
        }
      ]
    },
    {
      "cell_type": "code",
      "metadata": {
        "colab": {
          "base_uri": "https://localhost:8080/"
        },
        "id": "Cw5rkspEXi8G",
        "outputId": "05caad99-d46a-4198-854f-30ab325f433e"
      },
      "source": [
        "#mount drive\n",
        "from google.colab import drive\n",
        "drive.mount('/content/drive/')\n",
        "\n",
        "# this creates a symbolic link so that now the path /content/gdrive/My\\ Drive/ is equal to /mydrive\n",
        "!ln -s /content/drive/My\\ Drive/ /mydrive\n",
        "\n",
        "#list contents in your drive\n",
        "!ls /mydrive"
      ],
      "execution_count": null,
      "outputs": [
        {
          "output_type": "stream",
          "name": "stdout",
          "text": [
            "Mounted at /content/drive/\n",
            "'20211012 - GraphExercise.gdoc'\n",
            "'20211014 - SpatialExercise (1).gsheet'\n",
            "'20211014 - SpatialExercise.gsheet'\n",
            "'20211022 - Test.gsheet'\n",
            "'20211106 - Image Classification.gslides'\n",
            "'Capstone - Model Maker Object Detection.ipynb'\n",
            "'Capstone Project Proposal.gslides'\n",
            "'Classification of Subreddit Posts.gslides'\n",
            " classification.zip\n",
            "'Colab Notebooks'\n",
            "'Copy of Architecture Design Development PowerPoint Template #1386.gslides'\n",
            " customTF1\n",
            " dad.docx\n",
            " DSIF2_Project4_Nov2.gslides\n",
            " HR2002.docx\n",
            " log\n",
            "'My Drive'\n",
            " TFlite\n",
            " training\n",
            "'Untitled document.gdoc'\n",
            "'Untitled presentation - Pie chart 1.gsheet'\n",
            "'Your big idea.gslides'\n"
          ]
        }
      ]
    },
    {
      "cell_type": "code",
      "metadata": {
        "colab": {
          "base_uri": "https://localhost:8080/"
        },
        "id": "FUOqPKh9SiIP",
        "outputId": "faa05dff-f776-4f5a-efec-90a8ae1e1cfe"
      },
      "source": [
        "%cd /mydrive/\n",
        "# Walk through the TFlite data directory and list number of files\n",
        "for dirpath, dirnames, filenames in os.walk(\"TFlite\"):\n",
        "  print(f\"There are {len(dirnames)} directories and {len(filenames)} images in '{dirpath}'.\")"
      ],
      "execution_count": null,
      "outputs": [
        {
          "output_type": "stream",
          "name": "stdout",
          "text": [
            "/content/drive/My Drive\n",
            "There are 5 directories and 0 images in 'TFlite'.\n",
            "There are 0 directories and 100 images in 'TFlite/images'.\n",
            "There are 0 directories and 100 images in 'TFlite/annotations'.\n",
            "There are 2 directories and 0 images in 'TFlite/train'.\n",
            "There are 0 directories and 80 images in 'TFlite/train/images'.\n",
            "There are 0 directories and 80 images in 'TFlite/train/annotations'.\n",
            "There are 2 directories and 0 images in 'TFlite/test'.\n",
            "There are 0 directories and 4 images in 'TFlite/test/annotations'.\n",
            "There are 0 directories and 4 images in 'TFlite/test/images'.\n",
            "There are 2 directories and 0 images in 'TFlite/val'.\n",
            "There are 0 directories and 16 images in 'TFlite/val/images'.\n",
            "There are 0 directories and 16 images in 'TFlite/val/annotations'.\n"
          ]
        }
      ]
    },
    {
      "cell_type": "markdown",
      "metadata": {
        "id": "-tY--4k6qyhT"
      },
      "source": [
        ""
      ]
    },
    {
      "cell_type": "code",
      "metadata": {
        "id": "rD7_F6ZgSiC-"
      },
      "source": [
        "#spec = model_spec.get('efficientdet_lite0')\n",
        "spec = object_detector.EfficientDetLite0Spec(model_dir='log')"
      ],
      "execution_count": null,
      "outputs": []
    },
    {
      "cell_type": "code",
      "metadata": {
        "id": "2edfULnUSiFr"
      },
      "source": [
        "#setting the path for creating the data\n",
        "train_image_dir = '/mydrive/TFlite/train/images'\n",
        "train_annot_dir = '/mydrive/TFlite/train/annotations'\n",
        "\n",
        "test_image_dir = '/mydrive/TFlite/test/images'\n",
        "test_annot_dir = '/mydrive/TFlite/test/annotations'\n",
        "\n",
        "val_image_dir = '/mydrive/TFlite/val/images'\n",
        "val_annot_dir = '/mydrive/TFlite/val/annotations'\n",
        "\n",
        "#creating the train and test data \n",
        "train_data = object_detector.DataLoader.from_pascal_voc(train_image_dir, train_annot_dir, label_map={1: \"helmet\", 2: \"person\", 3: 'safety vest'})\n",
        "test_data = object_detector.DataLoader.from_pascal_voc(test_image_dir, test_annot_dir, label_map={1: \"helmet\", 2: \"person\", 3: 'safety vest'})\n",
        "val_data = object_detector.DataLoader.from_pascal_voc(val_image_dir, val_annot_dir, label_map={1: \"helmet\", 2: \"person\", 3: 'safety vest'})"
      ],
      "execution_count": null,
      "outputs": []
    },
    {
      "cell_type": "code",
      "metadata": {
        "colab": {
          "base_uri": "https://localhost:8080/"
        },
        "id": "pY3iSH9_SiQH",
        "outputId": "9e9b350f-8fbf-40d8-8dac-3924948bdee0"
      },
      "source": [
        "model = object_detector.create(train_data, model_spec=spec, epochs=50, batch_size=8, train_whole_model=True, validation_data=val_data)\n"
      ],
      "execution_count": null,
      "outputs": [
        {
          "output_type": "stream",
          "name": "stdout",
          "text": [
            "Epoch 1/50\n",
            "10/10 [==============================] - 59s 1s/step - det_loss: 1.7718 - cls_loss: 1.1320 - box_loss: 0.0128 - reg_l2_loss: 0.0632 - loss: 1.8350 - learning_rate: 0.0090 - gradient_norm: 0.9643 - val_det_loss: 1.7188 - val_cls_loss: 1.1082 - val_box_loss: 0.0122 - val_reg_l2_loss: 0.0632 - val_loss: 1.7820\n",
            "Epoch 2/50\n",
            "10/10 [==============================] - 5s 528ms/step - det_loss: 1.6585 - cls_loss: 1.0956 - box_loss: 0.0113 - reg_l2_loss: 0.0632 - loss: 1.7217 - learning_rate: 0.0100 - gradient_norm: 1.1753 - val_det_loss: 1.6300 - val_cls_loss: 1.0454 - val_box_loss: 0.0117 - val_reg_l2_loss: 0.0632 - val_loss: 1.6932\n",
            "Epoch 3/50\n",
            "10/10 [==============================] - 5s 534ms/step - det_loss: 1.5627 - cls_loss: 1.0282 - box_loss: 0.0107 - reg_l2_loss: 0.0632 - loss: 1.6258 - learning_rate: 0.0099 - gradient_norm: 1.4539 - val_det_loss: 1.4455 - val_cls_loss: 0.8734 - val_box_loss: 0.0114 - val_reg_l2_loss: 0.0632 - val_loss: 1.5086\n",
            "Epoch 4/50\n",
            "10/10 [==============================] - 5s 530ms/step - det_loss: 1.3675 - cls_loss: 0.8770 - box_loss: 0.0098 - reg_l2_loss: 0.0632 - loss: 1.4307 - learning_rate: 0.0099 - gradient_norm: 2.3497 - val_det_loss: 2.0371 - val_cls_loss: 1.4779 - val_box_loss: 0.0112 - val_reg_l2_loss: 0.0632 - val_loss: 2.1003\n",
            "Epoch 5/50\n",
            "10/10 [==============================] - 6s 579ms/step - det_loss: 1.1718 - cls_loss: 0.7167 - box_loss: 0.0091 - reg_l2_loss: 0.0632 - loss: 1.2350 - learning_rate: 0.0098 - gradient_norm: 1.8137 - val_det_loss: 1.3328 - val_cls_loss: 0.8023 - val_box_loss: 0.0106 - val_reg_l2_loss: 0.0632 - val_loss: 1.3960\n",
            "Epoch 6/50\n",
            "10/10 [==============================] - 6s 576ms/step - det_loss: 1.0378 - cls_loss: 0.6443 - box_loss: 0.0079 - reg_l2_loss: 0.0632 - loss: 1.1010 - learning_rate: 0.0097 - gradient_norm: 2.1533 - val_det_loss: 1.3035 - val_cls_loss: 0.7833 - val_box_loss: 0.0104 - val_reg_l2_loss: 0.0632 - val_loss: 1.3668\n",
            "Epoch 7/50\n",
            "10/10 [==============================] - 5s 555ms/step - det_loss: 0.9870 - cls_loss: 0.5699 - box_loss: 0.0083 - reg_l2_loss: 0.0632 - loss: 1.0502 - learning_rate: 0.0096 - gradient_norm: 2.3800 - val_det_loss: 1.1674 - val_cls_loss: 0.5689 - val_box_loss: 0.0120 - val_reg_l2_loss: 0.0632 - val_loss: 1.2306\n",
            "Epoch 8/50\n",
            "10/10 [==============================] - 6s 565ms/step - det_loss: 0.8889 - cls_loss: 0.5162 - box_loss: 0.0075 - reg_l2_loss: 0.0632 - loss: 0.9521 - learning_rate: 0.0094 - gradient_norm: 2.3509 - val_det_loss: 1.1904 - val_cls_loss: 0.6621 - val_box_loss: 0.0106 - val_reg_l2_loss: 0.0632 - val_loss: 1.2536\n",
            "Epoch 9/50\n",
            "10/10 [==============================] - 5s 569ms/step - det_loss: 0.8850 - cls_loss: 0.5158 - box_loss: 0.0074 - reg_l2_loss: 0.0632 - loss: 0.9482 - learning_rate: 0.0093 - gradient_norm: 2.3586 - val_det_loss: 1.1559 - val_cls_loss: 0.5772 - val_box_loss: 0.0116 - val_reg_l2_loss: 0.0632 - val_loss: 1.2191\n",
            "Epoch 10/50\n",
            "10/10 [==============================] - 5s 566ms/step - det_loss: 0.8062 - cls_loss: 0.4789 - box_loss: 0.0065 - reg_l2_loss: 0.0633 - loss: 0.8694 - learning_rate: 0.0091 - gradient_norm: 2.4743 - val_det_loss: 1.2296 - val_cls_loss: 0.7334 - val_box_loss: 0.0099 - val_reg_l2_loss: 0.0633 - val_loss: 1.2928\n",
            "Epoch 11/50\n",
            "10/10 [==============================] - 6s 590ms/step - det_loss: 0.7528 - cls_loss: 0.4461 - box_loss: 0.0061 - reg_l2_loss: 0.0633 - loss: 0.8161 - learning_rate: 0.0089 - gradient_norm: 2.5092 - val_det_loss: 1.0402 - val_cls_loss: 0.5692 - val_box_loss: 0.0094 - val_reg_l2_loss: 0.0633 - val_loss: 1.1034\n",
            "Epoch 12/50\n",
            "10/10 [==============================] - 5s 567ms/step - det_loss: 0.7217 - cls_loss: 0.4213 - box_loss: 0.0060 - reg_l2_loss: 0.0633 - loss: 0.7850 - learning_rate: 0.0087 - gradient_norm: 2.5281 - val_det_loss: 1.0336 - val_cls_loss: 0.5513 - val_box_loss: 0.0096 - val_reg_l2_loss: 0.0633 - val_loss: 1.0969\n",
            "Epoch 13/50\n",
            "10/10 [==============================] - 6s 564ms/step - det_loss: 0.6781 - cls_loss: 0.3961 - box_loss: 0.0056 - reg_l2_loss: 0.0633 - loss: 0.7414 - learning_rate: 0.0085 - gradient_norm: 2.2595 - val_det_loss: 1.0311 - val_cls_loss: 0.5334 - val_box_loss: 0.0100 - val_reg_l2_loss: 0.0633 - val_loss: 1.0944\n",
            "Epoch 14/50\n",
            "10/10 [==============================] - 6s 589ms/step - det_loss: 0.7042 - cls_loss: 0.4062 - box_loss: 0.0060 - reg_l2_loss: 0.0633 - loss: 0.7675 - learning_rate: 0.0082 - gradient_norm: 2.4212 - val_det_loss: 0.9065 - val_cls_loss: 0.4828 - val_box_loss: 0.0085 - val_reg_l2_loss: 0.0633 - val_loss: 0.9698\n",
            "Epoch 15/50\n",
            "10/10 [==============================] - 5s 542ms/step - det_loss: 0.6425 - cls_loss: 0.3824 - box_loss: 0.0052 - reg_l2_loss: 0.0633 - loss: 0.7058 - learning_rate: 0.0080 - gradient_norm: 2.3262 - val_det_loss: 0.9528 - val_cls_loss: 0.5098 - val_box_loss: 0.0089 - val_reg_l2_loss: 0.0633 - val_loss: 1.0161\n",
            "Epoch 16/50\n",
            "10/10 [==============================] - 6s 578ms/step - det_loss: 0.6163 - cls_loss: 0.3645 - box_loss: 0.0050 - reg_l2_loss: 0.0633 - loss: 0.6796 - learning_rate: 0.0077 - gradient_norm: 2.4996 - val_det_loss: 0.9177 - val_cls_loss: 0.4702 - val_box_loss: 0.0089 - val_reg_l2_loss: 0.0633 - val_loss: 0.9810\n",
            "Epoch 17/50\n",
            "10/10 [==============================] - 5s 548ms/step - det_loss: 0.6543 - cls_loss: 0.4003 - box_loss: 0.0051 - reg_l2_loss: 0.0633 - loss: 0.7176 - learning_rate: 0.0075 - gradient_norm: 2.4524 - val_det_loss: 0.9609 - val_cls_loss: 0.5352 - val_box_loss: 0.0085 - val_reg_l2_loss: 0.0633 - val_loss: 1.0242\n",
            "Epoch 18/50\n",
            "10/10 [==============================] - 5s 550ms/step - det_loss: 0.6113 - cls_loss: 0.3694 - box_loss: 0.0048 - reg_l2_loss: 0.0633 - loss: 0.6746 - learning_rate: 0.0072 - gradient_norm: 2.3068 - val_det_loss: 0.9157 - val_cls_loss: 0.4755 - val_box_loss: 0.0088 - val_reg_l2_loss: 0.0633 - val_loss: 0.9790\n",
            "Epoch 19/50\n",
            "10/10 [==============================] - 6s 565ms/step - det_loss: 0.6015 - cls_loss: 0.3581 - box_loss: 0.0049 - reg_l2_loss: 0.0633 - loss: 0.6649 - learning_rate: 0.0069 - gradient_norm: 2.5008 - val_det_loss: 0.9936 - val_cls_loss: 0.5556 - val_box_loss: 0.0088 - val_reg_l2_loss: 0.0633 - val_loss: 1.0569\n",
            "Epoch 20/50\n",
            "10/10 [==============================] - 6s 573ms/step - det_loss: 0.5807 - cls_loss: 0.3518 - box_loss: 0.0046 - reg_l2_loss: 0.0633 - loss: 0.6440 - learning_rate: 0.0066 - gradient_norm: 2.4827 - val_det_loss: 0.9159 - val_cls_loss: 0.4698 - val_box_loss: 0.0089 - val_reg_l2_loss: 0.0633 - val_loss: 0.9792\n",
            "Epoch 21/50\n",
            "10/10 [==============================] - 6s 553ms/step - det_loss: 0.5718 - cls_loss: 0.3413 - box_loss: 0.0046 - reg_l2_loss: 0.0633 - loss: 0.6351 - learning_rate: 0.0063 - gradient_norm: 2.5328 - val_det_loss: 0.9693 - val_cls_loss: 0.5176 - val_box_loss: 0.0090 - val_reg_l2_loss: 0.0633 - val_loss: 1.0326\n",
            "Epoch 22/50\n",
            "10/10 [==============================] - 5s 564ms/step - det_loss: 0.5533 - cls_loss: 0.3270 - box_loss: 0.0045 - reg_l2_loss: 0.0633 - loss: 0.6166 - learning_rate: 0.0060 - gradient_norm: 2.4016 - val_det_loss: 0.8332 - val_cls_loss: 0.4180 - val_box_loss: 0.0083 - val_reg_l2_loss: 0.0633 - val_loss: 0.8965\n",
            "Epoch 23/50\n",
            "10/10 [==============================] - 5s 561ms/step - det_loss: 0.5240 - cls_loss: 0.3205 - box_loss: 0.0041 - reg_l2_loss: 0.0633 - loss: 0.5873 - learning_rate: 0.0056 - gradient_norm: 2.2670 - val_det_loss: 0.8525 - val_cls_loss: 0.4255 - val_box_loss: 0.0085 - val_reg_l2_loss: 0.0633 - val_loss: 0.9159\n",
            "Epoch 24/50\n",
            "10/10 [==============================] - 5s 561ms/step - det_loss: 0.5227 - cls_loss: 0.3153 - box_loss: 0.0041 - reg_l2_loss: 0.0633 - loss: 0.5860 - learning_rate: 0.0053 - gradient_norm: 2.1355 - val_det_loss: 0.8419 - val_cls_loss: 0.4325 - val_box_loss: 0.0082 - val_reg_l2_loss: 0.0634 - val_loss: 0.9052\n",
            "Epoch 25/50\n",
            "10/10 [==============================] - 6s 582ms/step - det_loss: 0.5392 - cls_loss: 0.3331 - box_loss: 0.0041 - reg_l2_loss: 0.0634 - loss: 0.6025 - learning_rate: 0.0050 - gradient_norm: 2.5751 - val_det_loss: 0.8424 - val_cls_loss: 0.4246 - val_box_loss: 0.0084 - val_reg_l2_loss: 0.0634 - val_loss: 0.9058\n",
            "Epoch 26/50\n",
            "10/10 [==============================] - 6s 582ms/step - det_loss: 0.4891 - cls_loss: 0.3022 - box_loss: 0.0037 - reg_l2_loss: 0.0634 - loss: 0.5524 - learning_rate: 0.0047 - gradient_norm: 2.0339 - val_det_loss: 0.8132 - val_cls_loss: 0.4206 - val_box_loss: 0.0079 - val_reg_l2_loss: 0.0634 - val_loss: 0.8766\n",
            "Epoch 27/50\n",
            "10/10 [==============================] - 6s 588ms/step - det_loss: 0.5131 - cls_loss: 0.2990 - box_loss: 0.0043 - reg_l2_loss: 0.0634 - loss: 0.5765 - learning_rate: 0.0044 - gradient_norm: 2.0812 - val_det_loss: 0.8176 - val_cls_loss: 0.4450 - val_box_loss: 0.0075 - val_reg_l2_loss: 0.0634 - val_loss: 0.8810\n",
            "Epoch 28/50\n",
            "10/10 [==============================] - 6s 587ms/step - det_loss: 0.5344 - cls_loss: 0.3181 - box_loss: 0.0043 - reg_l2_loss: 0.0634 - loss: 0.5978 - learning_rate: 0.0040 - gradient_norm: 2.5730 - val_det_loss: 0.8201 - val_cls_loss: 0.4213 - val_box_loss: 0.0080 - val_reg_l2_loss: 0.0634 - val_loss: 0.8834\n",
            "Epoch 29/50\n",
            "10/10 [==============================] - 5s 545ms/step - det_loss: 0.5275 - cls_loss: 0.3086 - box_loss: 0.0044 - reg_l2_loss: 0.0634 - loss: 0.5908 - learning_rate: 0.0037 - gradient_norm: 2.4249 - val_det_loss: 0.7967 - val_cls_loss: 0.3965 - val_box_loss: 0.0080 - val_reg_l2_loss: 0.0634 - val_loss: 0.8601\n",
            "Epoch 30/50\n",
            "10/10 [==============================] - 5s 548ms/step - det_loss: 0.5341 - cls_loss: 0.3154 - box_loss: 0.0044 - reg_l2_loss: 0.0634 - loss: 0.5974 - learning_rate: 0.0034 - gradient_norm: 2.5837 - val_det_loss: 0.8102 - val_cls_loss: 0.4210 - val_box_loss: 0.0078 - val_reg_l2_loss: 0.0634 - val_loss: 0.8736\n",
            "Epoch 31/50\n",
            "10/10 [==============================] - 6s 569ms/step - det_loss: 0.5076 - cls_loss: 0.3075 - box_loss: 0.0040 - reg_l2_loss: 0.0634 - loss: 0.5710 - learning_rate: 0.0031 - gradient_norm: 2.4716 - val_det_loss: 0.7530 - val_cls_loss: 0.3847 - val_box_loss: 0.0074 - val_reg_l2_loss: 0.0634 - val_loss: 0.8164\n",
            "Epoch 32/50\n",
            "10/10 [==============================] - 6s 566ms/step - det_loss: 0.4592 - cls_loss: 0.2898 - box_loss: 0.0034 - reg_l2_loss: 0.0634 - loss: 0.5225 - learning_rate: 0.0028 - gradient_norm: 1.9603 - val_det_loss: 0.7548 - val_cls_loss: 0.3795 - val_box_loss: 0.0075 - val_reg_l2_loss: 0.0634 - val_loss: 0.8181\n",
            "Epoch 33/50\n",
            "10/10 [==============================] - 5s 534ms/step - det_loss: 0.4845 - cls_loss: 0.2909 - box_loss: 0.0039 - reg_l2_loss: 0.0634 - loss: 0.5479 - learning_rate: 0.0025 - gradient_norm: 2.0870 - val_det_loss: 0.7413 - val_cls_loss: 0.3836 - val_box_loss: 0.0072 - val_reg_l2_loss: 0.0634 - val_loss: 0.8047\n",
            "Epoch 34/50\n",
            "10/10 [==============================] - 5s 559ms/step - det_loss: 0.5204 - cls_loss: 0.3100 - box_loss: 0.0042 - reg_l2_loss: 0.0634 - loss: 0.5838 - learning_rate: 0.0023 - gradient_norm: 2.5034 - val_det_loss: 0.7606 - val_cls_loss: 0.3867 - val_box_loss: 0.0075 - val_reg_l2_loss: 0.0634 - val_loss: 0.8240\n",
            "Epoch 35/50\n",
            "10/10 [==============================] - 6s 598ms/step - det_loss: 0.4721 - cls_loss: 0.2867 - box_loss: 0.0037 - reg_l2_loss: 0.0634 - loss: 0.5355 - learning_rate: 0.0020 - gradient_norm: 2.2019 - val_det_loss: 0.7501 - val_cls_loss: 0.3817 - val_box_loss: 0.0074 - val_reg_l2_loss: 0.0634 - val_loss: 0.8135\n",
            "Epoch 36/50\n",
            "10/10 [==============================] - 6s 576ms/step - det_loss: 0.4972 - cls_loss: 0.2995 - box_loss: 0.0040 - reg_l2_loss: 0.0634 - loss: 0.5606 - learning_rate: 0.0018 - gradient_norm: 2.4208 - val_det_loss: 0.7686 - val_cls_loss: 0.3843 - val_box_loss: 0.0077 - val_reg_l2_loss: 0.0634 - val_loss: 0.8319\n",
            "Epoch 37/50\n",
            "10/10 [==============================] - 6s 574ms/step - det_loss: 0.4352 - cls_loss: 0.2621 - box_loss: 0.0035 - reg_l2_loss: 0.0634 - loss: 0.4986 - learning_rate: 0.0015 - gradient_norm: 1.9031 - val_det_loss: 0.7617 - val_cls_loss: 0.3819 - val_box_loss: 0.0076 - val_reg_l2_loss: 0.0634 - val_loss: 0.8250\n",
            "Epoch 38/50\n",
            "10/10 [==============================] - 5s 567ms/step - det_loss: 0.4362 - cls_loss: 0.2643 - box_loss: 0.0034 - reg_l2_loss: 0.0634 - loss: 0.4996 - learning_rate: 0.0013 - gradient_norm: 1.8535 - val_det_loss: 0.7470 - val_cls_loss: 0.3812 - val_box_loss: 0.0073 - val_reg_l2_loss: 0.0634 - val_loss: 0.8103\n",
            "Epoch 39/50\n",
            "10/10 [==============================] - 6s 582ms/step - det_loss: 0.4308 - cls_loss: 0.2694 - box_loss: 0.0032 - reg_l2_loss: 0.0634 - loss: 0.4942 - learning_rate: 0.0011 - gradient_norm: 2.0753 - val_det_loss: 0.7408 - val_cls_loss: 0.3767 - val_box_loss: 0.0073 - val_reg_l2_loss: 0.0634 - val_loss: 0.8042\n",
            "Epoch 40/50\n",
            "10/10 [==============================] - 5s 536ms/step - det_loss: 0.4365 - cls_loss: 0.2701 - box_loss: 0.0033 - reg_l2_loss: 0.0634 - loss: 0.4999 - learning_rate: 9.0158e-04 - gradient_norm: 1.9980 - val_det_loss: 0.7328 - val_cls_loss: 0.3759 - val_box_loss: 0.0071 - val_reg_l2_loss: 0.0634 - val_loss: 0.7962\n",
            "Epoch 41/50\n",
            "10/10 [==============================] - 6s 616ms/step - det_loss: 0.4626 - cls_loss: 0.2763 - box_loss: 0.0037 - reg_l2_loss: 0.0634 - loss: 0.5259 - learning_rate: 7.2660e-04 - gradient_norm: 1.9317 - val_det_loss: 0.7441 - val_cls_loss: 0.3830 - val_box_loss: 0.0072 - val_reg_l2_loss: 0.0634 - val_loss: 0.8075\n",
            "Epoch 42/50\n",
            "10/10 [==============================] - 6s 569ms/step - det_loss: 0.4605 - cls_loss: 0.2947 - box_loss: 0.0033 - reg_l2_loss: 0.0634 - loss: 0.5239 - learning_rate: 5.6919e-04 - gradient_norm: 2.0942 - val_det_loss: 0.7481 - val_cls_loss: 0.3822 - val_box_loss: 0.0073 - val_reg_l2_loss: 0.0634 - val_loss: 0.8115\n",
            "Epoch 43/50\n",
            "10/10 [==============================] - 5s 531ms/step - det_loss: 0.4288 - cls_loss: 0.2664 - box_loss: 0.0032 - reg_l2_loss: 0.0634 - loss: 0.4921 - learning_rate: 4.2998e-04 - gradient_norm: 2.2006 - val_det_loss: 0.7444 - val_cls_loss: 0.3784 - val_box_loss: 0.0073 - val_reg_l2_loss: 0.0634 - val_loss: 0.8078\n",
            "Epoch 44/50\n",
            "10/10 [==============================] - 6s 566ms/step - det_loss: 0.4588 - cls_loss: 0.2834 - box_loss: 0.0035 - reg_l2_loss: 0.0634 - loss: 0.5222 - learning_rate: 3.0955e-04 - gradient_norm: 2.1372 - val_det_loss: 0.7465 - val_cls_loss: 0.3783 - val_box_loss: 0.0074 - val_reg_l2_loss: 0.0634 - val_loss: 0.8099\n",
            "Epoch 45/50\n",
            "10/10 [==============================] - 5s 550ms/step - det_loss: 0.4757 - cls_loss: 0.2931 - box_loss: 0.0037 - reg_l2_loss: 0.0634 - loss: 0.5391 - learning_rate: 2.0839e-04 - gradient_norm: 2.2895 - val_det_loss: 0.7426 - val_cls_loss: 0.3786 - val_box_loss: 0.0073 - val_reg_l2_loss: 0.0634 - val_loss: 0.8060\n",
            "Epoch 46/50\n",
            "10/10 [==============================] - 5s 558ms/step - det_loss: 0.4462 - cls_loss: 0.2775 - box_loss: 0.0034 - reg_l2_loss: 0.0634 - loss: 0.5096 - learning_rate: 1.2693e-04 - gradient_norm: 2.5493 - val_det_loss: 0.7436 - val_cls_loss: 0.3799 - val_box_loss: 0.0073 - val_reg_l2_loss: 0.0634 - val_loss: 0.8070\n",
            "Epoch 47/50\n",
            "10/10 [==============================] - 5s 548ms/step - det_loss: 0.4612 - cls_loss: 0.2782 - box_loss: 0.0037 - reg_l2_loss: 0.0634 - loss: 0.5245 - learning_rate: 6.5487e-05 - gradient_norm: 2.3607 - val_det_loss: 0.7437 - val_cls_loss: 0.3806 - val_box_loss: 0.0073 - val_reg_l2_loss: 0.0634 - val_loss: 0.8071\n",
            "Epoch 48/50\n",
            "10/10 [==============================] - 5s 559ms/step - det_loss: 0.4373 - cls_loss: 0.2613 - box_loss: 0.0035 - reg_l2_loss: 0.0634 - loss: 0.5007 - learning_rate: 2.4323e-05 - gradient_norm: 1.7812 - val_det_loss: 0.7431 - val_cls_loss: 0.3811 - val_box_loss: 0.0072 - val_reg_l2_loss: 0.0634 - val_loss: 0.8065\n",
            "Epoch 49/50\n",
            "10/10 [==============================] - 5s 567ms/step - det_loss: 0.4460 - cls_loss: 0.2778 - box_loss: 0.0034 - reg_l2_loss: 0.0634 - loss: 0.5093 - learning_rate: 3.6053e-06 - gradient_norm: 2.0817 - val_det_loss: 0.7429 - val_cls_loss: 0.3815 - val_box_loss: 0.0072 - val_reg_l2_loss: 0.0634 - val_loss: 0.8062\n",
            "Epoch 50/50\n",
            "10/10 [==============================] - 5s 544ms/step - det_loss: 0.4732 - cls_loss: 0.2746 - box_loss: 0.0040 - reg_l2_loss: 0.0634 - loss: 0.5366 - learning_rate: 3.4186e-06 - gradient_norm: 2.1903 - val_det_loss: 0.7420 - val_cls_loss: 0.3812 - val_box_loss: 0.0072 - val_reg_l2_loss: 0.0634 - val_loss: 0.8053\n"
          ]
        }
      ]
    },
    {
      "cell_type": "code",
      "metadata": {
        "colab": {
          "base_uri": "https://localhost:8080/"
        },
        "id": "H18bvl5MSiSu",
        "outputId": "0a1513ba-e50e-46f9-f643-48f4b74e6d3b"
      },
      "source": [
        "model.evaluate(test_data)"
      ],
      "execution_count": null,
      "outputs": [
        {
          "output_type": "stream",
          "name": "stdout",
          "text": [
            "\r1/1 [==============================] - 5s 5s/step\n",
            "\n"
          ]
        },
        {
          "output_type": "execute_result",
          "data": {
            "text/plain": [
              "{'AP': 0.38992572,\n",
              " 'AP50': 0.7553967,\n",
              " 'AP75': 0.3445807,\n",
              " 'AP_/helmet': 0.17909949,\n",
              " 'AP_/person': 0.5845127,\n",
              " 'AP_/safety vest': 0.40616494,\n",
              " 'APl': -1.0,\n",
              " 'APm': 0.5308107,\n",
              " 'APs': 0.2919463,\n",
              " 'ARl': -1.0,\n",
              " 'ARm': 0.604386,\n",
              " 'ARmax1': 0.12621832,\n",
              " 'ARmax10': 0.4374269,\n",
              " 'ARmax100': 0.47690058,\n",
              " 'ARs': 0.36666667}"
            ]
          },
          "metadata": {},
          "execution_count": 9
        }
      ]
    },
    {
      "cell_type": "code",
      "metadata": {
        "id": "7EvXACr7i54K"
      },
      "source": [
        "# export saved model folder and labels.txt\n",
        "model.export(export_dir='/mydrive/TFlite/colab_models/tflite1/', export_format=[ExportFormat.SAVED_MODEL, ExportFormat.LABEL])"
      ],
      "execution_count": null,
      "outputs": []
    },
    {
      "cell_type": "code",
      "metadata": {
        "id": "SXIDoBEci50i"
      },
      "source": [
        "model.export(export_dir='/mydrive/TFlite/colab_models/tflite2/')"
      ],
      "execution_count": null,
      "outputs": []
    },
    {
      "cell_type": "code",
      "metadata": {
        "colab": {
          "base_uri": "https://localhost:8080/"
        },
        "id": "ldDptcC8hHOP",
        "outputId": "50191ef4-73fd-4c78-a612-a6f60a63f0b6"
      },
      "source": [
        "model.evaluate_tflite('model.tflite', test_data)"
      ],
      "execution_count": null,
      "outputs": [
        {
          "output_type": "stream",
          "name": "stdout",
          "text": [
            "4/4 [==============================] - 11s 3s/step\n",
            "\n"
          ]
        },
        {
          "output_type": "execute_result",
          "data": {
            "text/plain": [
              "{'AP': 0.3265737,\n",
              " 'AP50': 0.69554955,\n",
              " 'AP75': 0.32773086,\n",
              " 'AP_/helmet': 0.14936766,\n",
              " 'AP_/person': 0.45932788,\n",
              " 'AP_/safety vest': 0.3710256,\n",
              " 'APl': -1.0,\n",
              " 'APm': 0.4415116,\n",
              " 'APs': 0.25595856,\n",
              " 'ARl': -1.0,\n",
              " 'ARm': 0.50292397,\n",
              " 'ARmax1': 0.111988306,\n",
              " 'ARmax10': 0.38070175,\n",
              " 'ARmax100': 0.3877193,\n",
              " 'ARs': 0.315}"
            ]
          },
          "metadata": {},
          "execution_count": 33
        }
      ]
    },
    {
      "cell_type": "code",
      "metadata": {
        "colab": {
          "base_uri": "https://localhost:8080/"
        },
        "id": "GO-haf3thN2v",
        "outputId": "d4f5192a-3374-4645-a843-5707a52c99c2"
      },
      "source": [
        "model.summary()"
      ],
      "execution_count": null,
      "outputs": [
        {
          "output_type": "stream",
          "name": "stdout",
          "text": [
            "Model: \"\"\n",
            "_________________________________________________________________\n",
            "Layer (type)                 Output Shape              Param #   \n",
            "=================================================================\n",
            "keras_layer (KerasLayer)     multiple                  3234464   \n",
            "_________________________________________________________________\n",
            "class_net/class-predict (Sep multiple                  2331      \n",
            "_________________________________________________________________\n",
            "box_net/box-predict (Separab multiple                  2916      \n",
            "=================================================================\n",
            "Total params: 3,239,711\n",
            "Trainable params: 3,192,575\n",
            "Non-trainable params: 47,136\n",
            "_________________________________________________________________\n"
          ]
        }
      ]
    }
  ]
}